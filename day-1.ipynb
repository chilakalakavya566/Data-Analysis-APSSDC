{
 "cells": [
  {
   "cell_type": "markdown",
   "metadata": {},
   "source": [
    "# Heading1\n",
    "## heading2\n",
    "### heading3\n",
    "#### heading4\n",
    "##### heading5\n",
    "###### heading6"
   ]
  },
  {
   "cell_type": "markdown",
   "metadata": {},
   "source": [
    "- Hi,I am srivalli\n",
    "    - welcome to day2 workshop\n",
    "        - Introduction to data\n",
    "            - what is data?\n",
    "- welocome to ~**data analysis**~ workshop  \n",
    "<img src=\"https://image.shutterstock.com/image-vector/vector-emoji-smiling-face-smile-260nw-1271016607.jpg\" height=100px width=100px>"
   ]
  },
  {
   "cell_type": "markdown",
   "metadata": {},
   "source": [
    "[nec](https://www.nrtec.in/)"
   ]
  },
  {
   "cell_type": "markdown",
   "metadata": {},
   "source": [
    "## File\n",
    "- open(filename,modes)                        modes are-r,w,a(read overrides data but append add data to end without overriding previous data\n",
    "- read()                                        \n",
    "- write()\n",
    "- readline()\n",
    "- close()"
   ]
  },
  {
   "cell_type": "code",
   "execution_count": 5,
   "metadata": {},
   "outputs": [],
   "source": [
    "f1=open(\"data.txt\",'w')\n",
    "data=\"welcome to narasaraopeta engineering college\"\n",
    "f1.write(data)\n",
    "f1.close()\n"
   ]
  },
  {
   "cell_type": "code",
   "execution_count": 6,
   "metadata": {},
   "outputs": [
    {
     "name": "stdout",
     "output_type": "stream",
     "text": [
      "welcome to narasaraopeta engineering college\n"
     ]
    }
   ],
   "source": [
    "f1=open(\"data.txt\",\"r\")\n",
    "d=f1.read()\n",
    "print(d)"
   ]
  },
  {
   "cell_type": "code",
   "execution_count": 7,
   "metadata": {},
   "outputs": [],
   "source": [
    "f1=open(\"data.txt\",\"w\")\n",
    "s=\"apssdc\"\n",
    "f1.write(s)\n",
    "f1.close()"
   ]
  },
  {
   "cell_type": "code",
   "execution_count": 9,
   "metadata": {},
   "outputs": [],
   "source": [
    "f1=open(\"data.txt\",\"a\")\n",
    "s=\"\\ndata analysis workshop\"\n",
    "f1.write(s)\n",
    "f1.close()"
   ]
  },
  {
   "cell_type": "code",
   "execution_count": 13,
   "metadata": {},
   "outputs": [
    {
     "name": "stdout",
     "output_type": "stream",
     "text": [
      "ravi 70 80 90 100\n",
      "anil 80 60 90 100\n"
     ]
    }
   ],
   "source": [
    "f2=open(\"marks.txt\",\"r\")\n",
    "d=f2.read()\n",
    "print(d)"
   ]
  },
  {
   "cell_type": "code",
   "execution_count": 22,
   "metadata": {},
   "outputs": [
    {
     "name": "stdout",
     "output_type": "stream",
     "text": [
      "['ravi 70 80 90 100\\n', 'anil 80 60 90 100']\n",
      "ravi 340\n",
      "anil 330\n"
     ]
    }
   ],
   "source": [
    "f=open(\"marks.txt\",\"r\")\n",
    "d=f.readlines()\n",
    "print(d)\n",
    "for i in d:\n",
    "    words=i.split()\n",
    "    print(words[0],int(words[1])+int(words[2])+int(words[3])+int(words[4]))"
   ]
  },
  {
   "cell_type": "code",
   "execution_count": 38,
   "metadata": {},
   "outputs": [
    {
     "name": "stdout",
     "output_type": "stream",
     "text": [
      "['ravi 70 80 90 100\\n', 'anil 80 60 90 100']\n",
      "ravi 340\n",
      "anil 330\n"
     ]
    }
   ],
   "source": [
    "f=open(\"marks.txt\",\"r\")\n",
    "f2=open(\"totalmarks.txt\",\"w\")\n",
    "d=f.readlines()\n",
    "print(d)\n",
    "for i in d:\n",
    "    words=i.split()\n",
    "    name=words[0]\n",
    "    total=sum(list(map(int,words[1:])))\n",
    "    print(name,total)\n",
    "    f2.write(name+str(total))\n",
    "f2.close()"
   ]
  },
  {
   "cell_type": "raw",
   "metadata": {},
   "source": []
  },
  {
   "cell_type": "markdown",
   "metadata": {},
   "source": [
    "## Regular Expressions\n"
   ]
  },
  {
   "cell_type": "code",
   "execution_count": 1,
   "metadata": {},
   "outputs": [],
   "source": [
    "import re"
   ]
  },
  {
   "cell_type": "code",
   "execution_count": 3,
   "metadata": {},
   "outputs": [
    {
     "data": {
      "text/plain": [
       "<re.Match object; span=(0, 1), match='k'>"
      ]
     },
     "execution_count": 3,
     "metadata": {},
     "output_type": "execute_result"
    }
   ],
   "source": [
    "a=\"kavya\"\n",
    "re.match('k',a)"
   ]
  },
  {
   "cell_type": "code",
   "execution_count": 35,
   "metadata": {},
   "outputs": [
    {
     "data": {
      "text/plain": [
       "<re.Match object; span=(5, 6), match='6'>"
      ]
     },
     "execution_count": 35,
     "metadata": {},
     "output_type": "execute_result"
    }
   ],
   "source": [
    "a=\"kavya6\"\n",
    "re.search('6',a)"
   ]
  },
  {
   "cell_type": "code",
   "execution_count": 7,
   "metadata": {},
   "outputs": [
    {
     "data": {
      "text/plain": [
       "['d']"
      ]
     },
     "execution_count": 7,
     "metadata": {},
     "output_type": "execute_result"
    }
   ],
   "source": [
    "a=\"sudha\"\n",
    "re.findall('d',a)"
   ]
  },
  {
   "cell_type": "code",
   "execution_count": 8,
   "metadata": {},
   "outputs": [
    {
     "data": {
      "text/plain": [
       "['li']"
      ]
     },
     "execution_count": 8,
     "metadata": {},
     "output_type": "execute_result"
    }
   ],
   "source": [
    "a=\"anjali\"\n",
    "re.findall('li',a)"
   ]
  },
  {
   "cell_type": "code",
   "execution_count": 9,
   "metadata": {},
   "outputs": [
    {
     "data": {
      "text/plain": [
       "[]"
      ]
     },
     "execution_count": 9,
     "metadata": {},
     "output_type": "execute_result"
    }
   ],
   "source": [
    "a=\"anjali\"\n",
    "re.findall('l ',a)"
   ]
  },
  {
   "cell_type": "code",
   "execution_count": 10,
   "metadata": {},
   "outputs": [
    {
     "data": {
      "text/plain": [
       "<re.Match object; span=(0, 1), match='k'>"
      ]
     },
     "execution_count": 10,
     "metadata": {},
     "output_type": "execute_result"
    }
   ],
   "source": [
    "a=\"kavya\"\n",
    "re.search('^k',a)"
   ]
  },
  {
   "cell_type": "code",
   "execution_count": 11,
   "metadata": {},
   "outputs": [
    {
     "data": {
      "text/plain": [
       "<re.Match object; span=(5, 6), match='i'>"
      ]
     },
     "execution_count": 11,
     "metadata": {},
     "output_type": "execute_result"
    }
   ],
   "source": [
    "a=\"anjali\"\n",
    "re.search('i$',a)"
   ]
  },
  {
   "cell_type": "code",
   "execution_count": 13,
   "metadata": {},
   "outputs": [
    {
     "data": {
      "text/plain": [
       "<re.Match object; span=(0, 3), match='kav'>"
      ]
     },
     "execution_count": 13,
     "metadata": {},
     "output_type": "execute_result"
    }
   ],
   "source": [
    "a=\"kavya566\"\n",
    "re.search('...',a)"
   ]
  },
  {
   "cell_type": "code",
   "execution_count": 22,
   "metadata": {},
   "outputs": [
    {
     "data": {
      "text/plain": [
       "<re.Match object; span=(0, 2), match='ka'>"
      ]
     },
     "execution_count": 22,
     "metadata": {},
     "output_type": "execute_result"
    }
   ],
   "source": [
    "a=\"kavya\"\n",
    "re.search(\".a\",a)"
   ]
  },
  {
   "cell_type": "code",
   "execution_count": 23,
   "metadata": {},
   "outputs": [
    {
     "name": "stdout",
     "output_type": "stream",
     "text": [
      "mehziya\n",
      "navya\n",
      "naga\n",
      "kavya\n",
      "sudha\n"
     ]
    }
   ],
   "source": [
    "a=[\"mehziya\",\"navya\",\"naga\",\"kavya\",\"sudha\"]\n",
    "for i in a:\n",
    "    print(i)"
   ]
  },
  {
   "cell_type": "code",
   "execution_count": 25,
   "metadata": {},
   "outputs": [
    {
     "name": "stdout",
     "output_type": "stream",
     "text": [
      "mehziya\n",
      "navya\n",
      "kavya\n",
      "sudha\n"
     ]
    }
   ],
   "source": [
    "a=[\"mehziya\",\"navya\",\"naga\",\"kavya\",\"sudha\"]\n",
    "for i in a:\n",
    "    if re.search('.{5}',i):\n",
    "        print(i)"
   ]
  },
  {
   "cell_type": "code",
   "execution_count": 29,
   "metadata": {},
   "outputs": [
    {
     "name": "stdout",
     "output_type": "stream",
     "text": [
      "naga\n"
     ]
    }
   ],
   "source": [
    "a=[\"mehziya\",\"navya\",\"naga\",\"kavya\",\"sudha\"]\n",
    "for i in a:\n",
    "    if re.search('^.{4}$',i):\n",
    "        print(i)"
   ]
  },
  {
   "cell_type": "code",
   "execution_count": 34,
   "metadata": {},
   "outputs": [
    {
     "name": "stdout",
     "output_type": "stream",
     "text": [
      "mehziya\n",
      "navya\n",
      "kavya\n",
      "sudha\n"
     ]
    }
   ],
   "source": [
    "a=[\"mehziya\",\"navya\",\"naga\",\"kavya\",\"sudha\"]\n",
    "for i in a:\n",
    "    if re.search('^.{4,6}a$',i):\n",
    "        print(i)"
   ]
  },
  {
   "cell_type": "code",
   "execution_count": 40,
   "metadata": {},
   "outputs": [
    {
     "data": {
      "text/plain": [
       "<re.Match object; span=(5, 6), match='5'>"
      ]
     },
     "execution_count": 40,
     "metadata": {},
     "output_type": "execute_result"
    }
   ],
   "source": [
    "a=\"kavya56\"\n",
    "re.search('\\d',a)"
   ]
  },
  {
   "cell_type": "code",
   "execution_count": 41,
   "metadata": {},
   "outputs": [
    {
     "data": {
      "text/plain": [
       "<re.Match object; span=(8, 12), match='@#$%'>"
      ]
     },
     "execution_count": 41,
     "metadata": {},
     "output_type": "execute_result"
    }
   ],
   "source": [
    "a=\"kavya566@#$%\"\n",
    "re.search('\\W+',a)"
   ]
  },
  {
   "cell_type": "code",
   "execution_count": 64,
   "metadata": {},
   "outputs": [
    {
     "name": "stdout",
     "output_type": "stream",
     "text": [
      "0\n"
     ]
    }
   ],
   "source": [
    "a=['kavya','78','89','sudha','67','90']\n",
    "s=0\n",
    "for i in a:\n",
    "    if re.findall('\\d..',i):\n",
    "        s+=int(i)\n",
    "print(s)\n",
    "    "
   ]
  },
  {
   "cell_type": "code",
   "execution_count": 78,
   "metadata": {},
   "outputs": [
    {
     "name": "stdout",
     "output_type": "stream",
     "text": [
      "['340', '330', '120', '60 ']\n",
      "850\n"
     ]
    }
   ],
   "source": [
    "f=open('totalmarks.txt','r')\n",
    "a=f.read()\n",
    "b=re.findall('\\d..',a)\n",
    "print(b)\n",
    "s=0\n",
    "for i in b:\n",
    "    s+=int(i)\n",
    "print(s)\n",
    "\n"
   ]
  },
  {
   "cell_type": "code",
   "execution_count": null,
   "metadata": {},
   "outputs": [],
   "source": []
  },
  {
   "cell_type": "code",
   "execution_count": null,
   "metadata": {},
   "outputs": [],
   "source": []
  }
 ],
 "metadata": {
  "kernelspec": {
   "display_name": "Python 3",
   "language": "python",
   "name": "python3"
  },
  "language_info": {
   "codemirror_mode": {
    "name": "ipython",
    "version": 3
   },
   "file_extension": ".py",
   "mimetype": "text/x-python",
   "name": "python",
   "nbconvert_exporter": "python",
   "pygments_lexer": "ipython3",
   "version": "3.8.5"
  }
 },
 "nbformat": 4,
 "nbformat_minor": 4
}
